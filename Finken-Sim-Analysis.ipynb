{
 "cells": [
  {
   "cell_type": "code",
   "execution_count": null,
   "metadata": {},
   "outputs": [],
   "source": [
    "import numpy as np\n",
    "import quaternion\n",
    "from mpl_toolkits.mplot3d import axes3d\n",
    "import matplotlib.pyplot as plt\n",
    "import os\n",
    "\n",
    "pprz_home = os.environ['PAPARAZZI_HOME']\n",
    "vrep_home = os.environ['VREP_ROOT']\n",
    "\n",
    "pprz = np.loadtxt(open(pprz_home+\"/log.csv\", \"r\"), delimiter=\",\", skiprows=1)\n",
    "vrep = np.loadtxt(open(vrep_home+\"/log.csv\", \"r\"), delimiter=\",\", skiprows=1)\n",
    "\n",
    "pprzVec = quaternion.as_rotation_vector(quaternion.as_quat_array(pprz[:,-4:]))\n",
    "vrepVec = quaternion.as_rotation_vector(quaternion.as_quat_array(vrep[:,-4:]))\n",
    "pprzTime = pprz[:,0]\n",
    "vrepTime = vrep[:,0]\n",
    "\n",
    "pprzTimeMask = pprzTime>0\n",
    "vrepTimeMask = vrepTime>0\n",
    "\n",
    "pprzVec  = pprzVec[pprzTimeMask]\n",
    "pprzTime = pprzTime[pprzTimeMask]\n",
    "vrepVec  = vrepVec[vrepTimeMask]\n",
    "vrepTime = vrepTime[vrepTimeMask]\n",
    "\n",
    "print \"PPRZ: %i, VREP: %i\"%(len(pprzVec), len(vrepVec))\n",
    "\n",
    "outputSize = 100#-1 takes very long an very much ram !!!\n",
    "\n",
    "fig = plt.figure()\n",
    "ax = fig.gca(projection='3d')\n",
    "\n",
    "pprzX, pprzY, pprzZ = np.meshgrid(pprzTime[:outputSize].transpose(),\n",
    "                      np.arange(1),\n",
    "                      np.arange(1))\n",
    "pprzPlot = ax.quiver(pprzX, pprzY, pprzZ, \n",
    "                     pprzVec[:outputSize,0], pprzVec[:outputSize,1], pprzVec[:outputSize,2],\n",
    "                     length=0.05, normalize=True, color='blue')\n",
    "\n",
    "vrepX, vrepY, vrepZ = np.meshgrid(vrepTime[:outputSize].transpose(),\n",
    "                      np.arange(1),\n",
    "                      np.arange(1))\n",
    "vrepPlot = ax.quiver(vrepX, vrepY,  vrepZ, \n",
    "                     vrepVec[:outputSize,0], vrepVec[:outputSize,1], vrepVec[:outputSize,2],\n",
    "                     length=0.05, normalize=True, color='green')\n",
    "\n",
    "ax.legend([pprzPlot, vrepPlot], ['Paparazzi', 'VREP'])\n",
    "ax.set_xlabel('Time in s')\n",
    "plt.show()"
   ]
  },
  {
   "cell_type": "code",
   "execution_count": null,
   "metadata": {},
   "outputs": [],
   "source": []
  }
 ],
 "metadata": {
  "kernelspec": {
   "display_name": "Python2.7 Finken Sim Analysis",
   "language": "python",
   "name": "testenv"
  },
  "language_info": {
   "codemirror_mode": {
    "name": "ipython",
    "version": 2
   },
   "file_extension": ".py",
   "mimetype": "text/x-python",
   "name": "python",
   "nbconvert_exporter": "python",
   "pygments_lexer": "ipython2",
   "version": "2.7.14"
  }
 },
 "nbformat": 4,
 "nbformat_minor": 2
}
